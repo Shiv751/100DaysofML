{
 "cells": [
  {
   "cell_type": "code",
   "execution_count": 30,
   "metadata": {},
   "outputs": [],
   "source": [
    "import numpy as np\n",
    "import pandas as pd\n",
    "import matplotlib.pyplot as plt\n",
    "from sklearn.cluster import KMeans \n",
    "from sklearn.metrics import accuracy_score\n",
    "from sklearn import datasets"
   ]
  },
  {
   "cell_type": "code",
   "execution_count": 31,
   "metadata": {},
   "outputs": [],
   "source": [
    "iris = datasets.load_iris()\n",
    "y_true = iris.target\n",
    "x = iris.data"
   ]
  },
  {
   "cell_type": "code",
   "execution_count": 32,
   "metadata": {},
   "outputs": [
    {
     "name": "stdout",
     "output_type": "stream",
     "text": [
      "(150,)\n",
      "(150, 4)\n"
     ]
    }
   ],
   "source": [
    "print(y_true.shape)\n",
    "print(x.shape)"
   ]
  },
  {
   "cell_type": "code",
   "execution_count": 33,
   "metadata": {},
   "outputs": [
    {
     "data": {
      "text/plain": [
       "KMeans(algorithm='auto', copy_x=True, init='k-means++', max_iter=1000,\n",
       "    n_clusters=3, n_init=10, n_jobs=1, precompute_distances='auto',\n",
       "    random_state=None, tol=0.0001, verbose=0)"
      ]
     },
     "execution_count": 33,
     "metadata": {},
     "output_type": "execute_result"
    }
   ],
   "source": [
    "#Applying kmeans to the dataset by creating the KMeans classifier object\n",
    "kmeans = KMeans(n_clusters = 3, max_iter = 1000)\n",
    "kmeans.fit(x)"
   ]
  },
  {
   "cell_type": "code",
   "execution_count": 34,
   "metadata": {},
   "outputs": [
    {
     "name": "stdout",
     "output_type": "stream",
     "text": [
      "(150,)\n",
      "(150,)\n"
     ]
    }
   ],
   "source": [
    "y_kmeans = kmeans.predict(x)\n",
    "print(y_kmeans.shape)\n",
    "print(y_true.shape)"
   ]
  },
  {
   "cell_type": "code",
   "execution_count": 35,
   "metadata": {},
   "outputs": [
    {
     "data": {
      "text/plain": [
       "0.23999999999999999"
      ]
     },
     "execution_count": 35,
     "metadata": {},
     "output_type": "execute_result"
    }
   ],
   "source": [
    "accuracy_score(y_true, y_kmeans)"
   ]
  },
  {
   "cell_type": "code",
   "execution_count": 36,
   "metadata": {},
   "outputs": [
    {
     "data": {
      "text/plain": [
       "<matplotlib.legend.Legend at 0x1c85681fd30>"
      ]
     },
     "execution_count": 36,
     "metadata": {},
     "output_type": "execute_result"
    },
    {
     "data": {
      "image/png": "[encoded data removed]",
      "text/plain": [
       "<Figure size 432x288 with 1 Axes>"
      ]
     },
     "metadata": {},
     "output_type": "display_data"
    }
   ],
   "source": [
    "#Visualising the clusters\n",
    "plt.scatter(x[y_kmeans == 0, 0], x[y_kmeans == 0, 1], s = 100, c = 'green', label = 'Iris-versicolour')\n",
    "plt.scatter(x[y_kmeans == 1, 0], x[y_kmeans == 1, 1], s = 100, c = 'red', label = 'Iris-setosa')\n",
    "plt.scatter(x[y_kmeans == 2, 0], x[y_kmeans == 2, 1], s = 100, c = 'blue', label = 'Iris-virginica')\n",
    "\n",
    "#Plotting the centroids of the clusters\n",
    "plt.scatter(kmeans.cluster_centers_[:, 0], kmeans.cluster_centers_[:,1], s = 100, c = 'yellow', label = 'Centroids')\n",
    "\n",
    "plt.legend()"
   ]
  },
  {
   "cell_type": "code",
   "execution_count": 37,
   "metadata": {},
   "outputs": [],
   "source": [
    "class K_Means:\n",
    "    def __init__(self, k = 2, max_iter = 100):\n",
    "        print(\"constructor\")\n",
    "        self.k = k\n",
    "        self.max_iter = max_iter\n",
    "        \n",
    "    def fit(self, data):\n",
    "        self.means = []\n",
    "        # randomly initialise means\n",
    "        # using first k points as our means\n",
    "        for i in range(self.k):\n",
    "            self.means.append(data[i])\n",
    "        for i in range(self.max_iter):\n",
    "            # assign the data points to the cluster they belong to\n",
    "            clusters = []\n",
    "            for j in range(self.k):  # k subarrays\n",
    "                clusters.append([])    # create empty cluster because you are reassigning points to clusters\n",
    "\n",
    "            for point in data:\n",
    "                # find distance from all mean values\n",
    "                distances = [((point-m)**2).sum() for m in self.means]   # feature wise subtraction\n",
    "\n",
    "                # find minimum distance\n",
    "                minDistance = min(distances)\n",
    "\n",
    "                # find the mean for which we got the minimum distance --> l\n",
    "                l = distances.index(minDistance)\n",
    "\n",
    "                # add this point to cluster l\n",
    "                clusters[l].append(point)\n",
    "\n",
    "            # calculate the new mean values\n",
    "            change = False\n",
    "            for j in range(self.k):\n",
    "                new_mean = np.average(clusters[j], axis=0)\n",
    "                if not np.array_equal(self.means[j], new_mean):\n",
    "                     change = True\n",
    "                self.means[j] = new_mean\n",
    "            if change is False:\n",
    "                break\n",
    "            self.means = np.array(self.means)\n",
    "\n",
    "    def predict(self, test_data):\n",
    "        predictions = []\n",
    "        for point in test_data:\n",
    "            # find distance from all mean values\n",
    "            distances = [((point-m)**2).sum() for m in self.means]   # feature wise subtraction\n",
    "\n",
    "            # find minimum distance\n",
    "            minDistance = min(distances)\n",
    "\n",
    "            # find the mean for which we got the minimum distance --> l\n",
    "            l = distances.index(minDistance)\n",
    "\n",
    "            predictions.append(l)\n",
    "        return np.array(predictions)"
   ]
  },
  {
   "cell_type": "code",
   "execution_count": 38,
   "metadata": {},
   "outputs": [
    {
     "name": "stdout",
     "output_type": "stream",
     "text": [
      "constructor\n"
     ]
    }
   ],
   "source": [
    "k_means = K_Means(3, 1000)\n",
    "k_means.fit(x)\n",
    "y_k_means = k_means.predict(x)"
   ]
  },
  {
   "cell_type": "code",
   "execution_count": 39,
   "metadata": {},
   "outputs": [
    {
     "data": {
      "text/plain": [
       "array([[ 6.85384615,  3.07692308,  5.71538462,  2.05384615],\n",
       "       [ 5.88360656,  2.74098361,  4.38852459,  1.43442623],\n",
       "       [ 5.006     ,  3.418     ,  1.464     ,  0.244     ]])"
      ]
     },
     "execution_count": 39,
     "metadata": {},
     "output_type": "execute_result"
    }
   ],
   "source": [
    "k_means.means"
   ]
  },
  {
   "cell_type": "code",
   "execution_count": 40,
   "metadata": {},
   "outputs": [
    {
     "data": {
      "text/plain": [
       "array([[ 5.9016129 ,  2.7483871 ,  4.39354839,  1.43387097],\n",
       "       [ 5.006     ,  3.418     ,  1.464     ,  0.244     ],\n",
       "       [ 6.85      ,  3.07368421,  5.74210526,  2.07105263]])"
      ]
     },
     "execution_count": 40,
     "metadata": {},
     "output_type": "execute_result"
    }
   ],
   "source": [
    "kmeans.cluster_centers_"
   ]
  },
  {
   "cell_type": "code",
   "execution_count": 41,
   "metadata": {},
   "outputs": [
    {
     "data": {
      "text/plain": [
       "<matplotlib.legend.Legend at 0x1c85688dc88>"
      ]
     },
     "execution_count": 41,
     "metadata": {},
     "output_type": "execute_result"
    },
    {
     "data": {
      "image/png": "[encoded data removed]",
      "text/plain": [
       "<Figure size 432x288 with 1 Axes>"
      ]
     },
     "metadata": {},
     "output_type": "display_data"
    }
   ],
   "source": [
    "#Visualising the clusters\n",
    "plt.scatter(x[y_k_means == 0, 0], x[y_k_means == 0, 1], s = 100, c = 'green', label = 'Iris-versicolour')\n",
    "plt.scatter(x[y_k_means == 1, 0], x[y_k_means == 1, 1], s = 100, c = 'red', label = 'Iris-setosa')\n",
    "plt.scatter(x[y_k_means == 2, 0], x[y_k_means == 2, 1], s = 100, c = 'blue', label = 'Iris-virginica')\n",
    "\n",
    "#Plotting the centroids of the clusters\n",
    "plt.scatter(k_means.means[:, 0], k_means.means[:,1], s = 100, c = 'yellow', label = 'Centroids')\n",
    "\n",
    "plt.legend()"
   ]
  },
  {
   "cell_type": "code",
   "execution_count": 42,
   "metadata": {},
   "outputs": [],
   "source": [
    "from sklearn.metrics import confusion_matrix, classification_report"
   ]
  },
  {
   "cell_type": "code",
   "execution_count": 43,
   "metadata": {},
   "outputs": [
    {
     "name": "stdout",
     "output_type": "stream",
     "text": [
      "For inbuilt KMeans:\n",
      "confusion matrix: \n",
      "[[ 0 50  0]\n",
      " [48  0  2]\n",
      " [14  0 36]]\n",
      "classification report :\n",
      "             precision    recall  f1-score   support\n",
      "\n",
      "          0       0.00      0.00      0.00        50\n",
      "          1       0.00      0.00      0.00        50\n",
      "          2       0.95      0.72      0.82        50\n",
      "\n",
      "avg / total       0.32      0.24      0.27       150\n",
      "\n"
     ]
    }
   ],
   "source": [
    "print(\"For inbuilt KMeans:\")\n",
    "print(\"confusion matrix: \")\n",
    "print(confusion_matrix(y_true, y_kmeans))\n",
    "print(\"classification report :\")\n",
    "print(classification_report(y_true, y_kmeans))"
   ]
  },
  {
   "cell_type": "code",
   "execution_count": 44,
   "metadata": {},
   "outputs": [
    {
     "name": "stdout",
     "output_type": "stream",
     "text": [
      "For implemented K_Means:\n",
      "confusion matrix:\n",
      "[[ 0  0 50]\n",
      " [ 3 47  0]\n",
      " [36 14  0]]\n",
      "classification report :\n",
      "             precision    recall  f1-score   support\n",
      "\n",
      "          0       0.00      0.00      0.00        50\n",
      "          1       0.77      0.94      0.85        50\n",
      "          2       0.00      0.00      0.00        50\n",
      "\n",
      "avg / total       0.26      0.31      0.28       150\n",
      "\n"
     ]
    }
   ],
   "source": [
    "print(\"For implemented K_Means:\")\n",
    "print(\"confusion matrix:\")\n",
    "print(confusion_matrix(y_true, y_k_means))\n",
    "print(\"classification report :\")\n",
    "print(classification_report(y_true, y_k_means))"
   ]
  },
  {
   "cell_type": "code",
   "execution_count": null,
   "metadata": {},
   "outputs": [],
   "source": []
  }
 ],
 "metadata": {
  "kernelspec": {
   "display_name": "Python 3",
   "language": "python",
   "name": "python3"
  },
  "language_info": {
   "codemirror_mode": {
    "name": "ipython",
    "version": 3
   },
   "file_extension": ".py",
   "mimetype": "text/x-python",
   "name": "python",
   "nbconvert_exporter": "python",
   "pygments_lexer": "ipython3",
   "version": "3.6.5"
  }
 },
 "nbformat": 4,
 "nbformat_minor": 2
}
