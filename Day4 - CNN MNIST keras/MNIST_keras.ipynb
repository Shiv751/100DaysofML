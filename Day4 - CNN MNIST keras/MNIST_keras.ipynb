{
 "cells": [
  {
   "cell_type": "code",
   "execution_count": 38,
   "metadata": {},
   "outputs": [],
   "source": [
    "import keras\n",
    "from keras.datasets import mnist\n",
    "from keras.models import Sequential\n",
    "from keras.layers import Dense, Dropout, Flatten\n",
    "from keras.layers import Conv2D, MaxPooling2D\n",
    "from keras import backend as K\n",
    "from sklearn import datasets\n",
    "from sklearn.model_selection import train_test_split\n",
    "from sklearn.preprocessing import StandardScaler"
   ]
  },
  {
   "cell_type": "code",
   "execution_count": 39,
   "metadata": {},
   "outputs": [],
   "source": [
    "(x_train, y_train), (x_test, y_test) = mnist.load_data()   # MNIST database of handwritten images"
   ]
  },
  {
   "cell_type": "code",
   "execution_count": 40,
   "metadata": {},
   "outputs": [
    {
     "name": "stdout",
     "output_type": "stream",
     "text": [
      "x_train shape :  (60000, 28, 28)\n",
      "y_train shape :  (60000,)\n",
      "x_test shape :  (10000, 28, 28)\n",
      "y_test shape :  (10000,)\n"
     ]
    }
   ],
   "source": [
    "print(\"x_train shape : \", x_train.shape)\n",
    "print(\"y_train shape : \", y_train.shape)\n",
    "print(\"x_test shape : \", x_test.shape)\n",
    "print(\"y_test shape : \", y_test.shape)"
   ]
  },
  {
   "cell_type": "code",
   "execution_count": 41,
   "metadata": {},
   "outputs": [],
   "source": [
    "# constants\n",
    "\n",
    "input_width = 28\n",
    "input_height = 28\n",
    "input_channels = 1\n",
    "\n",
    "n_conv1 = 32\n",
    "n_conv2 = 64\n",
    "stride_conv1 = 1\n",
    "stride_conv2 = 1\n",
    "\n",
    "conv1_k = 5\n",
    "conv2_k = 5\n",
    "\n",
    "max_pool1_k = 2\n",
    "max_pool2_k = 2\n",
    "\n",
    "n_hidden = 1024\n",
    "n_out = 10\n",
    "\n",
    "input_size_to_hidden = (input_width//(max_pool1_k*max_pool2_k)) * (input_height//(max_pool1_k*max_pool2_k)) *n_conv2\n",
    "\n",
    "epochs = 15\n",
    "batch_size = 128\n",
    "num_classes = 10"
   ]
  },
  {
   "cell_type": "code",
   "execution_count": 42,
   "metadata": {},
   "outputs": [],
   "source": [
    "# reshape\n",
    "\n",
    "if K.image_data_format() == 'channels_first':\n",
    "    x_train = x_train.reshape(x_train.shape[0], 1, input_width, input_height)\n",
    "    x_test = x_test.reshape(x_test.shape[0], 1, input_width, input_height)\n",
    "    input_shape = (1, img_rows, img_cols)\n",
    "else:\n",
    "    x_train = x_train.reshape(x_train.shape[0], input_width, input_height, 1)\n",
    "    x_test = x_test.reshape(x_test.shape[0], input_width, input_height, 1)\n",
    "input_shape = (input_width, input_height, 1)"
   ]
  },
  {
   "cell_type": "code",
   "execution_count": 43,
   "metadata": {},
   "outputs": [
    {
     "name": "stdout",
     "output_type": "stream",
     "text": [
      "x_train shape :  (60000, 28, 28, 1)\n",
      "y_train shape :  (60000,)\n",
      "x_test shape :  (10000, 28, 28, 1)\n",
      "y_test shape :  (10000,)\n"
     ]
    }
   ],
   "source": [
    "print(\"x_train shape : \", x_train.shape)\n",
    "print(\"y_train shape : \", y_train.shape)\n",
    "print(\"x_test shape : \", x_test.shape)\n",
    "print(\"y_test shape : \", y_test.shape)"
   ]
  },
  {
   "cell_type": "code",
   "execution_count": 44,
   "metadata": {},
   "outputs": [
    {
     "name": "stdout",
     "output_type": "stream",
     "text": [
      "x_train shape: (60000, 28, 28, 1)\n",
      "60000 train samples\n",
      "10000 test samples\n"
     ]
    }
   ],
   "source": [
    "x_train = x_train.astype('float32')\n",
    "x_test = x_test.astype('float32')\n",
    "x_train /= 255\n",
    "x_test /= 255\n",
    "print('x_train shape:', x_train.shape)\n",
    "print(x_train.shape[0], 'train samples')\n",
    "print(x_test.shape[0], 'test samples')"
   ]
  },
  {
   "cell_type": "code",
   "execution_count": 45,
   "metadata": {},
   "outputs": [],
   "source": [
    "# convert class vectors to binary class matrices\n",
    "# one hot encoding\n",
    "y_train = keras.utils.to_categorical(y_train, num_classes)\n",
    "y_test = keras.utils.to_categorical(y_test, num_classes)"
   ]
  },
  {
   "cell_type": "code",
   "execution_count": 46,
   "metadata": {},
   "outputs": [],
   "source": [
    "model = Sequential()"
   ]
  },
  {
   "cell_type": "code",
   "execution_count": 47,
   "metadata": {},
   "outputs": [],
   "source": [
    "model.add(Conv2D(n_conv1, kernel_size=(conv1_k, conv2_k),\n",
    "                 activation='relu',\n",
    "                 input_shape=input_shape))"
   ]
  },
  {
   "cell_type": "code",
   "execution_count": 48,
   "metadata": {},
   "outputs": [],
   "source": [
    "model.add(MaxPooling2D(pool_size=(max_pool1_k, max_pool1_k)))"
   ]
  },
  {
   "cell_type": "code",
   "execution_count": 49,
   "metadata": {},
   "outputs": [],
   "source": [
    "model.add(Conv2D(n_conv2, kernel_size = (conv2_k, conv2_k), activation='relu'))"
   ]
  },
  {
   "cell_type": "code",
   "execution_count": 50,
   "metadata": {},
   "outputs": [],
   "source": [
    "model.add(MaxPooling2D(pool_size=(max_pool2_k, max_pool2_k)))"
   ]
  },
  {
   "cell_type": "code",
   "execution_count": 51,
   "metadata": {},
   "outputs": [],
   "source": [
    "model.add(Dropout(0.25))\n",
    "model.add(Flatten())"
   ]
  },
  {
   "cell_type": "code",
   "execution_count": 52,
   "metadata": {},
   "outputs": [],
   "source": [
    "model.add(Dense(batch_size, activation='relu'))\n",
    "model.add(Dropout(0.5))"
   ]
  },
  {
   "cell_type": "code",
   "execution_count": 53,
   "metadata": {},
   "outputs": [],
   "source": [
    "model.add(Dense(num_classes, activation='softmax'))"
   ]
  },
  {
   "cell_type": "code",
   "execution_count": 54,
   "metadata": {},
   "outputs": [],
   "source": [
    "model.compile(loss=keras.losses.categorical_crossentropy,\n",
    "              optimizer=keras.optimizers.Adadelta(),\n",
    "              metrics=['accuracy'])\n"
   ]
  },
  {
   "cell_type": "code",
   "execution_count": 55,
   "metadata": {},
   "outputs": [
    {
     "name": "stdout",
     "output_type": "stream",
     "text": [
      "Train on 60000 samples, validate on 10000 samples\n",
      "Epoch 1/15\n",
      "60000/60000 [==============================] - 83s 1ms/step - loss: 0.2886 - acc: 0.9091 - val_loss: 0.0685 - val_acc: 0.9790\n",
      "Epoch 2/15\n",
      "60000/60000 [==============================] - 80s 1ms/step - loss: 0.0902 - acc: 0.9730 - val_loss: 0.0359 - val_acc: 0.9872\n",
      "Epoch 3/15\n",
      "60000/60000 [==============================] - 80s 1ms/step - loss: 0.0667 - acc: 0.9801 - val_loss: 0.0291 - val_acc: 0.9901\n",
      "Epoch 4/15\n",
      "60000/60000 [==============================] - 80s 1ms/step - loss: 0.0543 - acc: 0.9840 - val_loss: 0.0318 - val_acc: 0.9897\n",
      "Epoch 5/15\n",
      "60000/60000 [==============================] - 81s 1ms/step - loss: 0.0454 - acc: 0.9863 - val_loss: 0.0230 - val_acc: 0.9925\n",
      "Epoch 6/15\n",
      "60000/60000 [==============================] - 79s 1ms/step - loss: 0.0417 - acc: 0.9874 - val_loss: 0.0230 - val_acc: 0.9924\n",
      "Epoch 7/15\n",
      "60000/60000 [==============================] - 79s 1ms/step - loss: 0.0371 - acc: 0.9885 - val_loss: 0.0226 - val_acc: 0.9927\n",
      "Epoch 8/15\n",
      "60000/60000 [==============================] - 79s 1ms/step - loss: 0.0319 - acc: 0.9901 - val_loss: 0.0201 - val_acc: 0.9937\n",
      "Epoch 9/15\n",
      "60000/60000 [==============================] - 80s 1ms/step - loss: 0.0303 - acc: 0.9906 - val_loss: 0.0191 - val_acc: 0.9931\n",
      "Epoch 10/15\n",
      "60000/60000 [==============================] - 83s 1ms/step - loss: 0.0272 - acc: 0.9918 - val_loss: 0.0167 - val_acc: 0.9937\n",
      "Epoch 11/15\n",
      "60000/60000 [==============================] - 81s 1ms/step - loss: 0.0266 - acc: 0.9918 - val_loss: 0.0186 - val_acc: 0.9933\n",
      "Epoch 12/15\n",
      "60000/60000 [==============================] - 80s 1ms/step - loss: 0.0253 - acc: 0.9924 - val_loss: 0.0170 - val_acc: 0.9939\n",
      "Epoch 13/15\n",
      "60000/60000 [==============================] - 79s 1ms/step - loss: 0.0236 - acc: 0.9930 - val_loss: 0.0179 - val_acc: 0.9944\n",
      "Epoch 14/15\n",
      "60000/60000 [==============================] - 79s 1ms/step - loss: 0.0206 - acc: 0.9935 - val_loss: 0.0227 - val_acc: 0.9933\n",
      "Epoch 15/15\n",
      "60000/60000 [==============================] - 79s 1ms/step - loss: 0.0191 - acc: 0.9937 - val_loss: 0.0190 - val_acc: 0.9946\n"
     ]
    },
    {
     "data": {
      "text/plain": [
       "<keras.callbacks.History at 0x247771c2da0>"
      ]
     },
     "execution_count": 55,
     "metadata": {},
     "output_type": "execute_result"
    }
   ],
   "source": [
    "model.fit(x_train, y_train, batch_size=batch_size, epochs=epochs, verbose=1, validation_data=(x_test, y_test))"
   ]
  },
  {
   "cell_type": "code",
   "execution_count": 56,
   "metadata": {},
   "outputs": [
    {
     "name": "stdout",
     "output_type": "stream",
     "text": [
      "Test loss: 0.018963385739777777\n",
      "Test accuracy: 0.9946\n"
     ]
    }
   ],
   "source": [
    "score = model.evaluate(x_test, y_test, verbose=0)\n",
    "print('Test loss:', score[0])\n",
    "print('Test accuracy:', score[1])"
   ]
  }
 ],
 "metadata": {
  "kernelspec": {
   "display_name": "Python 3",
   "language": "python",
   "name": "python3"
  },
  "language_info": {
   "codemirror_mode": {
    "name": "ipython",
    "version": 3
   },
   "file_extension": ".py",
   "mimetype": "text/x-python",
   "name": "python",
   "nbconvert_exporter": "python",
   "pygments_lexer": "ipython3",
   "version": "3.6.5"
  }
 },
 "nbformat": 4,
 "nbformat_minor": 2
}
