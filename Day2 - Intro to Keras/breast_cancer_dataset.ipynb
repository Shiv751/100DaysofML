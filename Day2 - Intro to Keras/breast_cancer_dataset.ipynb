{
 "cells": [
  {
   "cell_type": "code",
   "execution_count": 1,
   "metadata": {},
   "outputs": [
    {
     "name": "stderr",
     "output_type": "stream",
     "text": [
      "Using TensorFlow backend.\n"
     ]
    }
   ],
   "source": [
    "from keras.models import Sequential\n",
    "from keras.layers import Dense\n",
    "from sklearn import datasets\n",
    "from sklearn.model_selection import train_test_split\n",
    "from sklearn.preprocessing import StandardScaler"
   ]
  },
  {
   "cell_type": "markdown",
   "metadata": {},
   "source": [
    "### creation of model"
   ]
  },
  {
   "cell_type": "code",
   "execution_count": 2,
   "metadata": {},
   "outputs": [],
   "source": [
    "model = Sequential()\n",
    "\n",
    "# sequential will work fine for us, in most of the cases"
   ]
  },
  {
   "cell_type": "markdown",
   "metadata": {},
   "source": [
    "### Setup the Architecture \n",
    "#### add layers\n",
    " * **units** - number of units in the layer\n",
    " * **activation** - activation function of that layer\n",
    " * **input_dim** - to be passed only for the first layer (input size)\n",
    " * **use_bias** - by default True\n",
    " * can use regularization\n",
    " * can initialise weights\n",
    " * can add constraints\n",
    " \n",
    " Note: Only *units* is required. If no *activation* function is given, the layer uses Identity function by default. \n",
    " *input_dim* is needed only for the first layer"
   ]
  },
  {
   "cell_type": "code",
   "execution_count": 3,
   "metadata": {},
   "outputs": [],
   "source": [
    "# using Dense layers"
   ]
  },
  {
   "cell_type": "code",
   "execution_count": 4,
   "metadata": {},
   "outputs": [],
   "source": [
    "layer1 = Dense(units = 32, activation = 'relu', input_dim = 30)  #30 features in breast cancer dataset\n",
    "model.add(layer1)                                               # HL1"
   ]
  },
  {
   "cell_type": "code",
   "execution_count": 5,
   "metadata": {},
   "outputs": [],
   "source": [
    "model.add(Dense(units = 16, activation = 'relu'))               # HL2"
   ]
  },
  {
   "cell_type": "code",
   "execution_count": 6,
   "metadata": {},
   "outputs": [],
   "source": [
    "model.add(Dense(units = 1, activation = 'sigmoid'))             # OL"
   ]
  },
  {
   "cell_type": "code",
   "execution_count": 7,
   "metadata": {},
   "outputs": [],
   "source": [
    "# by default use_bias = True, so here we ARE using biases"
   ]
  },
  {
   "cell_type": "markdown",
   "metadata": {},
   "source": [
    "### Compile Data\n",
    "\n",
    " * **optimizer**  - which optimizer to use\n",
    " * **loss function** to use\n",
    " * **metrics** - will print out few metrics, both for training and testing data(provide a *list* of metrics to print)\n",
    " \n",
    " According to the problem, choose the loss function and metrics"
   ]
  },
  {
   "cell_type": "code",
   "execution_count": 8,
   "metadata": {},
   "outputs": [],
   "source": [
    "model.compile(optimizer = 'adam', loss = 'binary_crossentropy', metrics = ['accuracy'])"
   ]
  },
  {
   "cell_type": "markdown",
   "metadata": {},
   "source": [
    "### Load Data and Call fit()\n",
    "  * **x_train, y_train** - the required arguments\n",
    "  * rest of the arguments are *optional*\n",
    "   > * **epochs** = number of iterations (for forward and back propagation), default 1, so pass this value\n",
    "    * **batch_size** - by default 32\n",
    "    * **validation data** - can provide testing data, after every iteration, it will tell how the accuracy looks like on \n",
    "       validation data. It won't use validation data to train the network."
   ]
  },
  {
   "cell_type": "code",
   "execution_count": 9,
   "metadata": {},
   "outputs": [],
   "source": [
    "# using breast cancer dataset\n",
    "cancer = datasets.load_breast_cancer()\n",
    "x_train, x_test, y_train, y_test = train_test_split(cancer.data, cancer.target)"
   ]
  },
  {
   "cell_type": "code",
   "execution_count": 10,
   "metadata": {},
   "outputs": [],
   "source": [
    "sc = StandardScaler()\n",
    "\n",
    "x_train = sc.fit_transform(x_train)\n",
    "x_test = sc.transform(x_test)\n"
   ]
  },
  {
   "cell_type": "code",
   "execution_count": 11,
   "metadata": {},
   "outputs": [
    {
     "name": "stdout",
     "output_type": "stream",
     "text": [
      "Train on 426 samples, validate on 143 samples\n",
      "Epoch 1/20\n",
      "426/426 [==============================] - 1s 1ms/step - loss: 0.7106 - acc: 0.6408 - val_loss: 0.5593 - val_acc: 0.7552\n",
      "Epoch 2/20\n",
      "426/426 [==============================] - 0s 70us/step - loss: 0.5201 - acc: 0.7700 - val_loss: 0.4356 - val_acc: 0.8951\n",
      "Epoch 3/20\n",
      "426/426 [==============================] - 0s 42us/step - loss: 0.4088 - acc: 0.8779 - val_loss: 0.3568 - val_acc: 0.9371\n",
      "Epoch 4/20\n",
      "426/426 [==============================] - 0s 49us/step - loss: 0.3329 - acc: 0.9202 - val_loss: 0.2980 - val_acc: 0.9650\n",
      "Epoch 5/20\n",
      "426/426 [==============================] - 0s 47us/step - loss: 0.2774 - acc: 0.9319 - val_loss: 0.2520 - val_acc: 0.9650\n",
      "Epoch 6/20\n",
      "426/426 [==============================] - 0s 41us/step - loss: 0.2352 - acc: 0.9366 - val_loss: 0.2191 - val_acc: 0.9650\n",
      "Epoch 7/20\n",
      "426/426 [==============================] - 0s 50us/step - loss: 0.2045 - acc: 0.9437 - val_loss: 0.1947 - val_acc: 0.9650\n",
      "Epoch 8/20\n",
      "426/426 [==============================] - 0s 39us/step - loss: 0.1808 - acc: 0.9484 - val_loss: 0.1768 - val_acc: 0.9650\n",
      "Epoch 9/20\n",
      "426/426 [==============================] - 0s 44us/step - loss: 0.1621 - acc: 0.9577 - val_loss: 0.1633 - val_acc: 0.9650\n",
      "Epoch 10/20\n",
      "426/426 [==============================] - 0s 39us/step - loss: 0.1468 - acc: 0.9624 - val_loss: 0.1527 - val_acc: 0.9650\n",
      "Epoch 11/20\n",
      "426/426 [==============================] - 0s 68us/step - loss: 0.1342 - acc: 0.9648 - val_loss: 0.1438 - val_acc: 0.9720\n",
      "Epoch 12/20\n",
      "426/426 [==============================] - 0s 74us/step - loss: 0.1232 - acc: 0.9671 - val_loss: 0.1363 - val_acc: 0.9720\n",
      "Epoch 13/20\n",
      "426/426 [==============================] - 0s 69us/step - loss: 0.1140 - acc: 0.9718 - val_loss: 0.1302 - val_acc: 0.9720\n",
      "Epoch 14/20\n",
      "426/426 [==============================] - 0s 48us/step - loss: 0.1059 - acc: 0.9765 - val_loss: 0.1252 - val_acc: 0.9720\n",
      "Epoch 15/20\n",
      "426/426 [==============================] - 0s 62us/step - loss: 0.0992 - acc: 0.9765 - val_loss: 0.1209 - val_acc: 0.9790\n",
      "Epoch 16/20\n",
      "426/426 [==============================] - 0s 53us/step - loss: 0.0932 - acc: 0.9789 - val_loss: 0.1172 - val_acc: 0.9790\n",
      "Epoch 17/20\n",
      "426/426 [==============================] - 0s 55us/step - loss: 0.0882 - acc: 0.9812 - val_loss: 0.1141 - val_acc: 0.9860\n",
      "Epoch 18/20\n",
      "426/426 [==============================] - 0s 49us/step - loss: 0.0835 - acc: 0.9812 - val_loss: 0.1118 - val_acc: 0.9790\n",
      "Epoch 19/20\n",
      "426/426 [==============================] - 0s 49us/step - loss: 0.0794 - acc: 0.9812 - val_loss: 0.1095 - val_acc: 0.9790\n",
      "Epoch 20/20\n",
      "426/426 [==============================] - 0s 53us/step - loss: 0.0754 - acc: 0.9812 - val_loss: 0.1078 - val_acc: 0.9790\n"
     ]
    },
    {
     "data": {
      "text/plain": [
       "<keras.callbacks.History at 0x2e2d1b484e0>"
      ]
     },
     "execution_count": 11,
     "metadata": {},
     "output_type": "execute_result"
    }
   ],
   "source": [
    "model.fit(x_train, y_train, epochs = 20, batch_size = 50, validation_data = (x_test, y_test))"
   ]
  },
  {
   "cell_type": "markdown",
   "metadata": {},
   "source": [
    "### Predict and Evaluate\n",
    " * **predict()** - takes *x_test*\n",
    " * **evaluate()** - takes *x_test* and *y_test*, and gives the score"
   ]
  },
  {
   "cell_type": "code",
   "execution_count": 12,
   "metadata": {},
   "outputs": [
    {
     "data": {
      "text/plain": [
       "array([[9.86977573e-03],\n",
       "       [1.24242818e-02],\n",
       "       [1.27811849e-01],\n",
       "       [9.99485135e-01],\n",
       "       [9.95173156e-01],\n",
       "       [9.12638083e-02],\n",
       "       [9.99808133e-01],\n",
       "       [5.83769441e-01],\n",
       "       [1.86194759e-02],\n",
       "       [1.51739731e-01],\n",
       "       [1.38433069e-01],\n",
       "       [4.99449134e-01],\n",
       "       [9.99130070e-01],\n",
       "       [8.91668722e-02],\n",
       "       [9.99507427e-01],\n",
       "       [9.95657206e-01],\n",
       "       [9.80035365e-01],\n",
       "       [9.96989191e-01],\n",
       "       [2.45523662e-03],\n",
       "       [8.86296475e-05],\n",
       "       [9.99601662e-01],\n",
       "       [9.87205386e-01],\n",
       "       [4.32168320e-03],\n",
       "       [9.65430379e-01],\n",
       "       [6.78631186e-01],\n",
       "       [2.33305022e-01],\n",
       "       [9.46967244e-01],\n",
       "       [3.39958211e-03],\n",
       "       [1.89201056e-03],\n",
       "       [9.98907447e-01],\n",
       "       [7.30869532e-01],\n",
       "       [9.98720407e-01],\n",
       "       [9.99659657e-01],\n",
       "       [9.93450880e-01],\n",
       "       [9.94825363e-01],\n",
       "       [9.95560408e-01],\n",
       "       [1.68327391e-01],\n",
       "       [2.44072229e-01],\n",
       "       [1.40306482e-03],\n",
       "       [9.99261677e-01],\n",
       "       [9.97099638e-01],\n",
       "       [9.99480069e-01],\n",
       "       [8.35632145e-01],\n",
       "       [9.99922395e-01],\n",
       "       [9.93041754e-01],\n",
       "       [9.95222986e-01],\n",
       "       [9.99021411e-01],\n",
       "       [1.07708974e-02],\n",
       "       [4.94518830e-03],\n",
       "       [2.79867053e-02],\n",
       "       [9.89784062e-01],\n",
       "       [9.95833218e-01],\n",
       "       [4.22309905e-01],\n",
       "       [9.97811019e-01],\n",
       "       [9.63774920e-01],\n",
       "       [8.80556643e-01],\n",
       "       [9.91500735e-01],\n",
       "       [1.03551745e-02],\n",
       "       [9.98149633e-01],\n",
       "       [9.83096361e-01],\n",
       "       [9.90533948e-01],\n",
       "       [9.43089008e-01],\n",
       "       [2.22663977e-04],\n",
       "       [9.02974010e-01],\n",
       "       [9.97565389e-01],\n",
       "       [9.61742520e-01],\n",
       "       [4.15955111e-03],\n",
       "       [9.99980092e-01],\n",
       "       [3.85001340e-06],\n",
       "       [9.97771025e-01],\n",
       "       [9.99018550e-01],\n",
       "       [9.98734772e-01],\n",
       "       [9.97236192e-01],\n",
       "       [1.08636608e-02],\n",
       "       [1.17186904e-01],\n",
       "       [9.91542578e-01],\n",
       "       [9.95559812e-01],\n",
       "       [9.84836757e-01],\n",
       "       [9.83899385e-02],\n",
       "       [9.39440489e-01],\n",
       "       [6.04278207e-01],\n",
       "       [9.95171487e-01],\n",
       "       [9.99807656e-01],\n",
       "       [4.99395758e-01],\n",
       "       [9.67093647e-01],\n",
       "       [9.98683751e-01],\n",
       "       [9.99111354e-01],\n",
       "       [9.79953170e-01],\n",
       "       [9.94834781e-01],\n",
       "       [2.47048009e-02],\n",
       "       [9.32491243e-01],\n",
       "       [9.93798673e-01],\n",
       "       [9.48473632e-01],\n",
       "       [6.56293379e-03],\n",
       "       [9.39472258e-01],\n",
       "       [9.67211187e-01],\n",
       "       [9.98954177e-01],\n",
       "       [9.97880459e-01],\n",
       "       [7.86267579e-01],\n",
       "       [9.97019351e-01],\n",
       "       [5.53998871e-05],\n",
       "       [5.43204784e-01],\n",
       "       [9.94997501e-01],\n",
       "       [5.57895000e-05],\n",
       "       [9.99641180e-01],\n",
       "       [9.92562592e-01],\n",
       "       [9.51166570e-01],\n",
       "       [6.39250204e-02],\n",
       "       [9.70641971e-01],\n",
       "       [9.93173897e-01],\n",
       "       [6.02327324e-02],\n",
       "       [9.94755268e-01],\n",
       "       [8.89320850e-01],\n",
       "       [9.95476186e-01],\n",
       "       [6.86768144e-02],\n",
       "       [1.68271810e-01],\n",
       "       [9.80532229e-01],\n",
       "       [9.95744169e-01],\n",
       "       [9.64412391e-02],\n",
       "       [2.22947732e-01],\n",
       "       [9.70328152e-01],\n",
       "       [9.33535516e-01],\n",
       "       [8.30401421e-01],\n",
       "       [1.56798530e-02],\n",
       "       [9.99385953e-01],\n",
       "       [9.83505785e-01],\n",
       "       [7.85156846e-01],\n",
       "       [9.99985695e-01],\n",
       "       [9.30765085e-03],\n",
       "       [9.94638503e-01],\n",
       "       [9.92677569e-01],\n",
       "       [6.59615099e-02],\n",
       "       [9.99719679e-01],\n",
       "       [1.56756345e-04],\n",
       "       [1.80980172e-02],\n",
       "       [9.97638345e-01],\n",
       "       [7.97688699e-05],\n",
       "       [1.80982414e-03],\n",
       "       [9.79746699e-01],\n",
       "       [9.99107897e-01],\n",
       "       [9.45701659e-01],\n",
       "       [9.99945641e-01],\n",
       "       [9.92245376e-01]], dtype=float32)"
      ]
     },
     "execution_count": 12,
     "metadata": {},
     "output_type": "execute_result"
    }
   ],
   "source": [
    "predictions = model.predict(x_test)\n",
    "predictions"
   ]
  },
  {
   "cell_type": "code",
   "execution_count": 13,
   "metadata": {},
   "outputs": [
    {
     "name": "stdout",
     "output_type": "stream",
     "text": [
      "143/143 [==============================] - 0s 54us/step\n",
      "Score on testing data : (loss, metrics) [0.10783384235614872, 0.9790209790209791]\n"
     ]
    }
   ],
   "source": [
    "score = model.evaluate(x_test, y_test)\n",
    "print(\"Score on testing data : (loss, metrics)\", score)\n",
    "# metrics passed while training"
   ]
  }
 ],
 "metadata": {
  "kernelspec": {
   "display_name": "Python 3",
   "language": "python",
   "name": "python3"
  },
  "language_info": {
   "codemirror_mode": {
    "name": "ipython",
    "version": 3
   },
   "file_extension": ".py",
   "mimetype": "text/x-python",
   "name": "python",
   "nbconvert_exporter": "python",
   "pygments_lexer": "ipython3",
   "version": "3.6.5"
  }
 },
 "nbformat": 4,
 "nbformat_minor": 2
}
