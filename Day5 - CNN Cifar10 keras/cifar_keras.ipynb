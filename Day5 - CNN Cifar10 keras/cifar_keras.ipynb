{
 "cells": [
  {
   "cell_type": "code",
   "execution_count": 1,
   "metadata": {},
   "outputs": [
    {
     "name": "stderr",
     "output_type": "stream",
     "text": [
      "Using TensorFlow backend.\n"
     ]
    }
   ],
   "source": [
    "import keras\n",
    "from keras.datasets import cifar10\n",
    "from keras.models import Sequential\n",
    "from keras.layers import Dense, Dropout, Flatten\n",
    "from keras.layers import Conv2D, MaxPooling2D\n",
    "from keras import backend as K\n",
    "from sklearn import datasets\n",
    "from sklearn.model_selection import train_test_split\n",
    "from sklearn.preprocessing import StandardScaler"
   ]
  },
  {
   "cell_type": "code",
   "execution_count": 2,
   "metadata": {},
   "outputs": [],
   "source": [
    "# load data\n",
    "(x_train, y_train), (x_test, y_test) = cifar10.load_data()"
   ]
  },
  {
   "cell_type": "code",
   "execution_count": 4,
   "metadata": {},
   "outputs": [
    {
     "name": "stdout",
     "output_type": "stream",
     "text": [
      "x_train shape :  (50000, 32, 32, 3)\n",
      "y_train shape :  (50000, 1)\n",
      "x_test shape :  (10000, 32, 32, 3)\n",
      "y_test shape :  (10000, 1)\n"
     ]
    }
   ],
   "source": [
    "print(\"x_train shape : \", x_train.shape)\n",
    "print(\"y_train shape : \", y_train.shape)\n",
    "print(\"x_test shape : \", x_test.shape)\n",
    "print(\"y_test shape : \", y_test.shape)"
   ]
  },
  {
   "cell_type": "code",
   "execution_count": 5,
   "metadata": {},
   "outputs": [],
   "source": [
    "input_width = 32\n",
    "input_height = 32\n",
    "input_channels = 3\n",
    "\n",
    "n_conv1 = 32\n",
    "n_conv2 = 64\n",
    "n_conv3 = 128\n",
    "n_conv4 = 256\n",
    "\n",
    "stride_conv = 1\n",
    "\n",
    "conv_k = 5\n",
    "\n",
    "max_pool_k = 2\n",
    "\n",
    "n_hidden = 1024\n",
    "n_out = 10\n",
    "\n",
    "epochs = 25\n",
    "batch_size = 128\n",
    "num_classes = 10\n",
    "\n",
    "drop_prob = 0.20\n",
    "input_shape = (input_width, input_height, input_channels)"
   ]
  },
  {
   "cell_type": "code",
   "execution_count": 6,
   "metadata": {},
   "outputs": [],
   "source": [
    "# convert class vectors to binary class matrices\n",
    "# one hot encoding\n",
    "\n",
    "y_train = keras.utils.to_categorical(y_train, num_classes)\n",
    "y_test = keras.utils.to_categorical(y_test, num_classes)"
   ]
  },
  {
   "cell_type": "code",
   "execution_count": 7,
   "metadata": {},
   "outputs": [
    {
     "data": {
      "text/plain": [
       "((50000, 10), (10000, 10))"
      ]
     },
     "execution_count": 7,
     "metadata": {},
     "output_type": "execute_result"
    }
   ],
   "source": [
    "y_train.shape, y_test.shape"
   ]
  },
  {
   "cell_type": "code",
   "execution_count": 8,
   "metadata": {},
   "outputs": [
    {
     "name": "stdout",
     "output_type": "stream",
     "text": [
      "x_train shape: (50000, 32, 32, 3)\n",
      "50000 train samples\n",
      "10000 test samples\n"
     ]
    }
   ],
   "source": [
    "x_train = x_train.astype('float32')\n",
    "x_test = x_test.astype('float32')\n",
    "x_train /= 255\n",
    "x_test /= 255\n",
    "print('x_train shape:', x_train.shape)\n",
    "print(x_train.shape[0], 'train samples')\n",
    "print(x_test.shape[0], 'test samples')"
   ]
  },
  {
   "cell_type": "code",
   "execution_count": 9,
   "metadata": {},
   "outputs": [],
   "source": [
    "model = Sequential()"
   ]
  },
  {
   "cell_type": "code",
   "execution_count": 10,
   "metadata": {},
   "outputs": [],
   "source": [
    "# Convolutional layer 1\n",
    "\n",
    "model.add(Conv2D(n_conv1, data_format = 'channels_last', padding = 'same', activation = 'relu', \n",
    "                kernel_size = (conv_k, conv_k),input_shape = input_shape))\n",
    "\n",
    "model.add(MaxPooling2D(data_format = 'channels_last',))\n",
    "model.add(Dropout(drop_prob))"
   ]
  },
  {
   "cell_type": "code",
   "execution_count": 11,
   "metadata": {},
   "outputs": [],
   "source": [
    "# Convolutional layer 2\n",
    "\n",
    "model.add(Conv2D(n_conv2, data_format = 'channels_last',  padding = 'same',activation = 'relu', \n",
    "                kernel_size = (conv_k, conv_k)))\n",
    "\n",
    "model.add(MaxPooling2D(data_format = 'channels_last',))\n",
    "model.add(Dropout(drop_prob))"
   ]
  },
  {
   "cell_type": "code",
   "execution_count": 12,
   "metadata": {},
   "outputs": [],
   "source": [
    "# Convolutional layer 3\n",
    "\n",
    "model.add(Conv2D(n_conv3, data_format = 'channels_last',  padding = 'same',activation = 'relu', \n",
    "                kernel_size = (conv_k, conv_k)))\n",
    "\n",
    "model.add(MaxPooling2D(data_format = 'channels_last'))\n",
    "model.add(Dropout(drop_prob))"
   ]
  },
  {
   "cell_type": "code",
   "execution_count": 13,
   "metadata": {},
   "outputs": [],
   "source": [
    "# Convolutional layer 4\n",
    "\n",
    "# model.add(Conv2D(n_conv4, data_format = 'channels_last',  padding = 'same',activation = 'relu', \n",
    "#                 kernel_size = (conv_k, conv_k)))\n",
    "# model.add(MaxPooling2D(data_format = 'channels_last'))\n",
    "# model.add(Dropout(drop_prob))"
   ]
  },
  {
   "cell_type": "code",
   "execution_count": 14,
   "metadata": {},
   "outputs": [],
   "source": [
    "# Flatten the output\n",
    "\n",
    "model.add(Flatten())"
   ]
  },
  {
   "cell_type": "code",
   "execution_count": 15,
   "metadata": {},
   "outputs": [],
   "source": [
    "# Hidden Layer\n",
    "\n",
    "model.add(Dense(n_hidden, activation='relu'))\n",
    "model.add(Dropout(drop_prob))"
   ]
  },
  {
   "cell_type": "code",
   "execution_count": 16,
   "metadata": {},
   "outputs": [],
   "source": [
    "# Output layer\n",
    "\n",
    "model.add(Dense(units = num_classes, activation='softmax'))"
   ]
  },
  {
   "cell_type": "code",
   "execution_count": 17,
   "metadata": {},
   "outputs": [],
   "source": [
    "# compile\n",
    "model.compile(loss=keras.losses.categorical_crossentropy,\n",
    "              optimizer=keras.optimizers.Adadelta(),\n",
    "              metrics=['accuracy'])"
   ]
  },
  {
   "cell_type": "code",
   "execution_count": 18,
   "metadata": {},
   "outputs": [
    {
     "name": "stdout",
     "output_type": "stream",
     "text": [
      "Train on 50000 samples, validate on 10000 samples\n",
      "Epoch 1/25\n",
      "50000/50000 [==============================] - 254s 5ms/step - loss: 1.8794 - acc: 0.3123 - val_loss: 1.5105 - val_acc: 0.4525\n",
      "Epoch 2/25\n",
      "50000/50000 [==============================] - 256s 5ms/step - loss: 1.3804 - acc: 0.5052 - val_loss: 1.1761 - val_acc: 0.5834\n",
      "Epoch 3/25\n",
      "50000/50000 [==============================] - 256s 5ms/step - loss: 1.1516 - acc: 0.5913 - val_loss: 1.1304 - val_acc: 0.5966\n",
      "Epoch 4/25\n",
      "50000/50000 [==============================] - 255s 5ms/step - loss: 1.0026 - acc: 0.6457 - val_loss: 1.0208 - val_acc: 0.6374\n",
      "Epoch 5/25\n",
      "50000/50000 [==============================] - 259s 5ms/step - loss: 0.8894 - acc: 0.6885 - val_loss: 0.9488 - val_acc: 0.6692\n",
      "Epoch 6/25\n",
      "50000/50000 [==============================] - 288s 6ms/step - loss: 0.8029 - acc: 0.7191 - val_loss: 0.8149 - val_acc: 0.7171\n",
      "Epoch 7/25\n",
      "50000/50000 [==============================] - 290s 6ms/step - loss: 0.7298 - acc: 0.7452 - val_loss: 0.7763 - val_acc: 0.7303\n",
      "Epoch 8/25\n",
      "50000/50000 [==============================] - 279s 6ms/step - loss: 0.6602 - acc: 0.7678 - val_loss: 0.7459 - val_acc: 0.7395\n",
      "Epoch 9/25\n",
      "50000/50000 [==============================] - 280s 6ms/step - loss: 0.6048 - acc: 0.7881 - val_loss: 0.7677 - val_acc: 0.7375\n",
      "Epoch 10/25\n",
      "50000/50000 [==============================] - 277s 6ms/step - loss: 0.5533 - acc: 0.8047 - val_loss: 0.7529 - val_acc: 0.7484\n",
      "Epoch 11/25\n",
      "50000/50000 [==============================] - 384s 8ms/step - loss: 0.4999 - acc: 0.8234 - val_loss: 0.7578 - val_acc: 0.7469\n",
      "Epoch 12/25\n",
      "50000/50000 [==============================] - 379s 8ms/step - loss: 0.4634 - acc: 0.8371 - val_loss: 0.7684 - val_acc: 0.7547\n",
      "Epoch 13/25\n",
      "50000/50000 [==============================] - 388s 8ms/step - loss: 0.4296 - acc: 0.8481 - val_loss: 0.7710 - val_acc: 0.7542\n",
      "Epoch 14/25\n",
      "50000/50000 [==============================] - 379s 8ms/step - loss: 0.3870 - acc: 0.8621 - val_loss: 0.8161 - val_acc: 0.7393\n",
      "Epoch 15/25\n",
      "50000/50000 [==============================] - 380s 8ms/step - loss: 0.3585 - acc: 0.8741 - val_loss: 0.7868 - val_acc: 0.7559\n",
      "Epoch 16/25\n",
      "50000/50000 [==============================] - 373s 7ms/step - loss: 0.3238 - acc: 0.8853 - val_loss: 0.8030 - val_acc: 0.7524\n",
      "Epoch 17/25\n",
      "50000/50000 [==============================] - 373s 7ms/step - loss: 0.2963 - acc: 0.8943 - val_loss: 0.8632 - val_acc: 0.7561\n",
      "Epoch 18/25\n",
      "50000/50000 [==============================] - 372s 7ms/step - loss: 0.2771 - acc: 0.9030 - val_loss: 0.8082 - val_acc: 0.7633\n",
      "Epoch 19/25\n",
      "50000/50000 [==============================] - 392s 8ms/step - loss: 0.2600 - acc: 0.9085 - val_loss: 0.8372 - val_acc: 0.7665\n",
      "Epoch 20/25\n",
      "50000/50000 [==============================] - 386s 8ms/step - loss: 0.2458 - acc: 0.9139 - val_loss: 0.8950 - val_acc: 0.7578\n",
      "Epoch 21/25\n",
      "50000/50000 [==============================] - 359s 7ms/step - loss: 0.2310 - acc: 0.9204 - val_loss: 0.8648 - val_acc: 0.7679\n",
      "Epoch 22/25\n",
      "50000/50000 [==============================] - 321s 6ms/step - loss: 0.2159 - acc: 0.9247 - val_loss: 0.8914 - val_acc: 0.7671\n",
      "Epoch 23/25\n",
      "50000/50000 [==============================] - 286s 6ms/step - loss: 0.2054 - acc: 0.9298 - val_loss: 0.8725 - val_acc: 0.7655\n",
      "Epoch 24/25\n",
      "50000/50000 [==============================] - 278s 6ms/step - loss: 0.1901 - acc: 0.9342 - val_loss: 0.9344 - val_acc: 0.7702\n",
      "Epoch 25/25\n",
      "50000/50000 [==============================] - 259s 5ms/step - loss: 0.1896 - acc: 0.9342 - val_loss: 0.9401 - val_acc: 0.7743\n"
     ]
    },
    {
     "data": {
      "text/plain": [
       "<keras.callbacks.History at 0x20d9e3267b8>"
      ]
     },
     "execution_count": 18,
     "metadata": {},
     "output_type": "execute_result"
    }
   ],
   "source": [
    "# fit\n",
    "model.fit(x_train, y_train, batch_size=batch_size, epochs=epochs, verbose=1, validation_data=(x_test, y_test))"
   ]
  },
  {
   "cell_type": "code",
   "execution_count": 19,
   "metadata": {},
   "outputs": [
    {
     "name": "stdout",
     "output_type": "stream",
     "text": [
      "Test loss: 0.9401279193401336\n",
      "Test accuracy: 0.7743\n"
     ]
    }
   ],
   "source": [
    "# score\n",
    "\n",
    "score = model.evaluate(x_test, y_test, verbose=0)\n",
    "print('Test loss:', score[0])\n",
    "print('Test accuracy:', score[1])"
   ]
  },
  {
   "cell_type": "code",
   "execution_count": 20,
   "metadata": {},
   "outputs": [],
   "source": [
    "# predict\n",
    "\n",
    "predictions = model.predict(x_test, verbose = 0)"
   ]
  },
  {
   "cell_type": "code",
   "execution_count": 23,
   "metadata": {},
   "outputs": [
    {
     "data": {
      "text/plain": [
       "array([[2.0209108e-04, 5.4288478e-08, 3.5607041e-05, ..., 6.9102316e-07,\n",
       "        3.1295073e-07, 1.2506317e-07],\n",
       "       [2.1514502e-06, 1.2071098e-06, 3.2780150e-21, ..., 2.6069294e-21,\n",
       "        9.9999666e-01, 5.0757354e-09],\n",
       "       [1.2919347e-01, 3.4016735e-04, 4.4157197e-05, ..., 9.0061178e-05,\n",
       "        8.3822024e-01, 3.2105494e-02],\n",
       "       ...,\n",
       "       [3.9210523e-12, 3.1919785e-16, 1.8429573e-01, ..., 1.1643995e-07,\n",
       "        2.8447589e-10, 2.7470102e-13],\n",
       "       [1.4925264e-04, 9.0147501e-01, 3.1914175e-04, ..., 3.6197172e-09,\n",
       "        2.5201313e-08, 1.0768283e-04],\n",
       "       [1.0447263e-19, 4.2092552e-21, 1.4094563e-13, ..., 9.9999857e-01,\n",
       "        9.2463347e-21, 1.4342386e-19]], dtype=float32)"
      ]
     },
     "execution_count": 23,
     "metadata": {},
     "output_type": "execute_result"
    }
   ],
   "source": [
    "predictions"
   ]
  },
  {
   "cell_type": "code",
   "execution_count": 28,
   "metadata": {},
   "outputs": [
    {
     "data": {
      "text/plain": [
       "array([9.9334502e-01, 2.8180931e-08, 1.7861914e-03, 1.2691789e-04,\n",
       "       2.7020294e-03, 6.0349330e-04, 1.4709240e-05, 4.2150555e-06,\n",
       "       1.4174610e-03, 4.7983555e-09], dtype=float32)"
      ]
     },
     "execution_count": 28,
     "metadata": {},
     "output_type": "execute_result"
    }
   ],
   "source": [
    "predictions[10]               # output of the 10 units in output layer"
   ]
  },
  {
   "cell_type": "code",
   "execution_count": 30,
   "metadata": {},
   "outputs": [],
   "source": [
    "pred_classes = model.predict_classes(x_test)    # predicted classes"
   ]
  },
  {
   "cell_type": "code",
   "execution_count": 33,
   "metadata": {},
   "outputs": [
    {
     "data": {
      "text/plain": [
       "array([3, 8, 8, ..., 5, 1, 7], dtype=int64)"
      ]
     },
     "execution_count": 33,
     "metadata": {},
     "output_type": "execute_result"
    }
   ],
   "source": [
    "pred_classes                    "
   ]
  }
 ],
 "metadata": {
  "kernelspec": {
   "display_name": "Python 3",
   "language": "python",
   "name": "python3"
  },
  "language_info": {
   "codemirror_mode": {
    "name": "ipython",
    "version": 3
   },
   "file_extension": ".py",
   "mimetype": "text/x-python",
   "name": "python",
   "nbconvert_exporter": "python",
   "pygments_lexer": "ipython3",
   "version": "3.6.5"
  }
 },
 "nbformat": 4,
 "nbformat_minor": 2
}
