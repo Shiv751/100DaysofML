{
 "cells": [
  {
   "cell_type": "code",
   "execution_count": 38,
   "metadata": {},
   "outputs": [],
   "source": [
    "from pandas import  read_csv\n",
    "import numpy as np"
   ]
  },
  {
   "cell_type": "code",
   "execution_count": 39,
   "metadata": {},
   "outputs": [
    {
     "data": {
      "text/html": [
       "<div>\n",
       "<style scoped>\n",
       "    .dataframe tbody tr th:only-of-type {\n",
       "        vertical-align: middle;\n",
       "    }\n",
       "\n",
       "    .dataframe tbody tr th {\n",
       "        vertical-align: top;\n",
       "    }\n",
       "\n",
       "    .dataframe thead th {\n",
       "        text-align: right;\n",
       "    }\n",
       "</style>\n",
       "<table border=\"1\" class=\"dataframe\">\n",
       "  <thead>\n",
       "    <tr style=\"text-align: right;\">\n",
       "      <th></th>\n",
       "      <th>Month</th>\n",
       "      <th>International airline passengers: monthly totals in thousands. Jan 49 ? Dec 60</th>\n",
       "    </tr>\n",
       "  </thead>\n",
       "  <tbody>\n",
       "    <tr>\n",
       "      <th>0</th>\n",
       "      <td>1949-01</td>\n",
       "      <td>112</td>\n",
       "    </tr>\n",
       "    <tr>\n",
       "      <th>1</th>\n",
       "      <td>1949-02</td>\n",
       "      <td>118</td>\n",
       "    </tr>\n",
       "    <tr>\n",
       "      <th>2</th>\n",
       "      <td>1949-03</td>\n",
       "      <td>132</td>\n",
       "    </tr>\n",
       "    <tr>\n",
       "      <th>3</th>\n",
       "      <td>1949-04</td>\n",
       "      <td>129</td>\n",
       "    </tr>\n",
       "    <tr>\n",
       "      <th>4</th>\n",
       "      <td>1949-05</td>\n",
       "      <td>121</td>\n",
       "    </tr>\n",
       "    <tr>\n",
       "      <th>5</th>\n",
       "      <td>1949-06</td>\n",
       "      <td>135</td>\n",
       "    </tr>\n",
       "    <tr>\n",
       "      <th>6</th>\n",
       "      <td>1949-07</td>\n",
       "      <td>148</td>\n",
       "    </tr>\n",
       "    <tr>\n",
       "      <th>7</th>\n",
       "      <td>1949-08</td>\n",
       "      <td>148</td>\n",
       "    </tr>\n",
       "    <tr>\n",
       "      <th>8</th>\n",
       "      <td>1949-09</td>\n",
       "      <td>136</td>\n",
       "    </tr>\n",
       "    <tr>\n",
       "      <th>9</th>\n",
       "      <td>1949-10</td>\n",
       "      <td>119</td>\n",
       "    </tr>\n",
       "    <tr>\n",
       "      <th>10</th>\n",
       "      <td>1949-11</td>\n",
       "      <td>104</td>\n",
       "    </tr>\n",
       "    <tr>\n",
       "      <th>11</th>\n",
       "      <td>1949-12</td>\n",
       "      <td>118</td>\n",
       "    </tr>\n",
       "    <tr>\n",
       "      <th>12</th>\n",
       "      <td>1950-01</td>\n",
       "      <td>115</td>\n",
       "    </tr>\n",
       "    <tr>\n",
       "      <th>13</th>\n",
       "      <td>1950-02</td>\n",
       "      <td>126</td>\n",
       "    </tr>\n",
       "    <tr>\n",
       "      <th>14</th>\n",
       "      <td>1950-03</td>\n",
       "      <td>141</td>\n",
       "    </tr>\n",
       "    <tr>\n",
       "      <th>15</th>\n",
       "      <td>1950-04</td>\n",
       "      <td>135</td>\n",
       "    </tr>\n",
       "    <tr>\n",
       "      <th>16</th>\n",
       "      <td>1950-05</td>\n",
       "      <td>125</td>\n",
       "    </tr>\n",
       "    <tr>\n",
       "      <th>17</th>\n",
       "      <td>1950-06</td>\n",
       "      <td>149</td>\n",
       "    </tr>\n",
       "    <tr>\n",
       "      <th>18</th>\n",
       "      <td>1950-07</td>\n",
       "      <td>170</td>\n",
       "    </tr>\n",
       "    <tr>\n",
       "      <th>19</th>\n",
       "      <td>1950-08</td>\n",
       "      <td>170</td>\n",
       "    </tr>\n",
       "    <tr>\n",
       "      <th>20</th>\n",
       "      <td>1950-09</td>\n",
       "      <td>158</td>\n",
       "    </tr>\n",
       "    <tr>\n",
       "      <th>21</th>\n",
       "      <td>1950-10</td>\n",
       "      <td>133</td>\n",
       "    </tr>\n",
       "    <tr>\n",
       "      <th>22</th>\n",
       "      <td>1950-11</td>\n",
       "      <td>114</td>\n",
       "    </tr>\n",
       "    <tr>\n",
       "      <th>23</th>\n",
       "      <td>1950-12</td>\n",
       "      <td>140</td>\n",
       "    </tr>\n",
       "    <tr>\n",
       "      <th>24</th>\n",
       "      <td>1951-01</td>\n",
       "      <td>145</td>\n",
       "    </tr>\n",
       "    <tr>\n",
       "      <th>25</th>\n",
       "      <td>1951-02</td>\n",
       "      <td>150</td>\n",
       "    </tr>\n",
       "    <tr>\n",
       "      <th>26</th>\n",
       "      <td>1951-03</td>\n",
       "      <td>178</td>\n",
       "    </tr>\n",
       "    <tr>\n",
       "      <th>27</th>\n",
       "      <td>1951-04</td>\n",
       "      <td>163</td>\n",
       "    </tr>\n",
       "    <tr>\n",
       "      <th>28</th>\n",
       "      <td>1951-05</td>\n",
       "      <td>172</td>\n",
       "    </tr>\n",
       "    <tr>\n",
       "      <th>29</th>\n",
       "      <td>1951-06</td>\n",
       "      <td>178</td>\n",
       "    </tr>\n",
       "    <tr>\n",
       "      <th>...</th>\n",
       "      <td>...</td>\n",
       "      <td>...</td>\n",
       "    </tr>\n",
       "    <tr>\n",
       "      <th>114</th>\n",
       "      <td>1958-07</td>\n",
       "      <td>491</td>\n",
       "    </tr>\n",
       "    <tr>\n",
       "      <th>115</th>\n",
       "      <td>1958-08</td>\n",
       "      <td>505</td>\n",
       "    </tr>\n",
       "    <tr>\n",
       "      <th>116</th>\n",
       "      <td>1958-09</td>\n",
       "      <td>404</td>\n",
       "    </tr>\n",
       "    <tr>\n",
       "      <th>117</th>\n",
       "      <td>1958-10</td>\n",
       "      <td>359</td>\n",
       "    </tr>\n",
       "    <tr>\n",
       "      <th>118</th>\n",
       "      <td>1958-11</td>\n",
       "      <td>310</td>\n",
       "    </tr>\n",
       "    <tr>\n",
       "      <th>119</th>\n",
       "      <td>1958-12</td>\n",
       "      <td>337</td>\n",
       "    </tr>\n",
       "    <tr>\n",
       "      <th>120</th>\n",
       "      <td>1959-01</td>\n",
       "      <td>360</td>\n",
       "    </tr>\n",
       "    <tr>\n",
       "      <th>121</th>\n",
       "      <td>1959-02</td>\n",
       "      <td>342</td>\n",
       "    </tr>\n",
       "    <tr>\n",
       "      <th>122</th>\n",
       "      <td>1959-03</td>\n",
       "      <td>406</td>\n",
       "    </tr>\n",
       "    <tr>\n",
       "      <th>123</th>\n",
       "      <td>1959-04</td>\n",
       "      <td>396</td>\n",
       "    </tr>\n",
       "    <tr>\n",
       "      <th>124</th>\n",
       "      <td>1959-05</td>\n",
       "      <td>420</td>\n",
       "    </tr>\n",
       "    <tr>\n",
       "      <th>125</th>\n",
       "      <td>1959-06</td>\n",
       "      <td>472</td>\n",
       "    </tr>\n",
       "    <tr>\n",
       "      <th>126</th>\n",
       "      <td>1959-07</td>\n",
       "      <td>548</td>\n",
       "    </tr>\n",
       "    <tr>\n",
       "      <th>127</th>\n",
       "      <td>1959-08</td>\n",
       "      <td>559</td>\n",
       "    </tr>\n",
       "    <tr>\n",
       "      <th>128</th>\n",
       "      <td>1959-09</td>\n",
       "      <td>463</td>\n",
       "    </tr>\n",
       "    <tr>\n",
       "      <th>129</th>\n",
       "      <td>1959-10</td>\n",
       "      <td>407</td>\n",
       "    </tr>\n",
       "    <tr>\n",
       "      <th>130</th>\n",
       "      <td>1959-11</td>\n",
       "      <td>362</td>\n",
       "    </tr>\n",
       "    <tr>\n",
       "      <th>131</th>\n",
       "      <td>1959-12</td>\n",
       "      <td>405</td>\n",
       "    </tr>\n",
       "    <tr>\n",
       "      <th>132</th>\n",
       "      <td>1960-01</td>\n",
       "      <td>417</td>\n",
       "    </tr>\n",
       "    <tr>\n",
       "      <th>133</th>\n",
       "      <td>1960-02</td>\n",
       "      <td>391</td>\n",
       "    </tr>\n",
       "    <tr>\n",
       "      <th>134</th>\n",
       "      <td>1960-03</td>\n",
       "      <td>419</td>\n",
       "    </tr>\n",
       "    <tr>\n",
       "      <th>135</th>\n",
       "      <td>1960-04</td>\n",
       "      <td>461</td>\n",
       "    </tr>\n",
       "    <tr>\n",
       "      <th>136</th>\n",
       "      <td>1960-05</td>\n",
       "      <td>472</td>\n",
       "    </tr>\n",
       "    <tr>\n",
       "      <th>137</th>\n",
       "      <td>1960-06</td>\n",
       "      <td>535</td>\n",
       "    </tr>\n",
       "    <tr>\n",
       "      <th>138</th>\n",
       "      <td>1960-07</td>\n",
       "      <td>622</td>\n",
       "    </tr>\n",
       "    <tr>\n",
       "      <th>139</th>\n",
       "      <td>1960-08</td>\n",
       "      <td>606</td>\n",
       "    </tr>\n",
       "    <tr>\n",
       "      <th>140</th>\n",
       "      <td>1960-09</td>\n",
       "      <td>508</td>\n",
       "    </tr>\n",
       "    <tr>\n",
       "      <th>141</th>\n",
       "      <td>1960-10</td>\n",
       "      <td>461</td>\n",
       "    </tr>\n",
       "    <tr>\n",
       "      <th>142</th>\n",
       "      <td>1960-11</td>\n",
       "      <td>390</td>\n",
       "    </tr>\n",
       "    <tr>\n",
       "      <th>143</th>\n",
       "      <td>1960-12</td>\n",
       "      <td>432</td>\n",
       "    </tr>\n",
       "  </tbody>\n",
       "</table>\n",
       "<p>144 rows × 2 columns</p>\n",
       "</div>"
      ],
      "text/plain": [
       "       Month  \\\n",
       "0    1949-01   \n",
       "1    1949-02   \n",
       "2    1949-03   \n",
       "3    1949-04   \n",
       "4    1949-05   \n",
       "5    1949-06   \n",
       "6    1949-07   \n",
       "7    1949-08   \n",
       "8    1949-09   \n",
       "9    1949-10   \n",
       "10   1949-11   \n",
       "11   1949-12   \n",
       "12   1950-01   \n",
       "13   1950-02   \n",
       "14   1950-03   \n",
       "15   1950-04   \n",
       "16   1950-05   \n",
       "17   1950-06   \n",
       "18   1950-07   \n",
       "19   1950-08   \n",
       "20   1950-09   \n",
       "21   1950-10   \n",
       "22   1950-11   \n",
       "23   1950-12   \n",
       "24   1951-01   \n",
       "25   1951-02   \n",
       "26   1951-03   \n",
       "27   1951-04   \n",
       "28   1951-05   \n",
       "29   1951-06   \n",
       "..       ...   \n",
       "114  1958-07   \n",
       "115  1958-08   \n",
       "116  1958-09   \n",
       "117  1958-10   \n",
       "118  1958-11   \n",
       "119  1958-12   \n",
       "120  1959-01   \n",
       "121  1959-02   \n",
       "122  1959-03   \n",
       "123  1959-04   \n",
       "124  1959-05   \n",
       "125  1959-06   \n",
       "126  1959-07   \n",
       "127  1959-08   \n",
       "128  1959-09   \n",
       "129  1959-10   \n",
       "130  1959-11   \n",
       "131  1959-12   \n",
       "132  1960-01   \n",
       "133  1960-02   \n",
       "134  1960-03   \n",
       "135  1960-04   \n",
       "136  1960-05   \n",
       "137  1960-06   \n",
       "138  1960-07   \n",
       "139  1960-08   \n",
       "140  1960-09   \n",
       "141  1960-10   \n",
       "142  1960-11   \n",
       "143  1960-12   \n",
       "\n",
       "     International airline passengers: monthly totals in thousands. Jan 49 ? Dec 60  \n",
       "0                                                  112                               \n",
       "1                                                  118                               \n",
       "2                                                  132                               \n",
       "3                                                  129                               \n",
       "4                                                  121                               \n",
       "5                                                  135                               \n",
       "6                                                  148                               \n",
       "7                                                  148                               \n",
       "8                                                  136                               \n",
       "9                                                  119                               \n",
       "10                                                 104                               \n",
       "11                                                 118                               \n",
       "12                                                 115                               \n",
       "13                                                 126                               \n",
       "14                                                 141                               \n",
       "15                                                 135                               \n",
       "16                                                 125                               \n",
       "17                                                 149                               \n",
       "18                                                 170                               \n",
       "19                                                 170                               \n",
       "20                                                 158                               \n",
       "21                                                 133                               \n",
       "22                                                 114                               \n",
       "23                                                 140                               \n",
       "24                                                 145                               \n",
       "25                                                 150                               \n",
       "26                                                 178                               \n",
       "27                                                 163                               \n",
       "28                                                 172                               \n",
       "29                                                 178                               \n",
       "..                                                 ...                               \n",
       "114                                                491                               \n",
       "115                                                505                               \n",
       "116                                                404                               \n",
       "117                                                359                               \n",
       "118                                                310                               \n",
       "119                                                337                               \n",
       "120                                                360                               \n",
       "121                                                342                               \n",
       "122                                                406                               \n",
       "123                                                396                               \n",
       "124                                                420                               \n",
       "125                                                472                               \n",
       "126                                                548                               \n",
       "127                                                559                               \n",
       "128                                                463                               \n",
       "129                                                407                               \n",
       "130                                                362                               \n",
       "131                                                405                               \n",
       "132                                                417                               \n",
       "133                                                391                               \n",
       "134                                                419                               \n",
       "135                                                461                               \n",
       "136                                                472                               \n",
       "137                                                535                               \n",
       "138                                                622                               \n",
       "139                                                606                               \n",
       "140                                                508                               \n",
       "141                                                461                               \n",
       "142                                                390                               \n",
       "143                                                432                               \n",
       "\n",
       "[144 rows x 2 columns]"
      ]
     },
     "execution_count": 39,
     "metadata": {},
     "output_type": "execute_result"
    }
   ],
   "source": [
    "read_csv('international-airline-passengers.csv')"
   ]
  },
  {
   "cell_type": "code",
   "execution_count": 40,
   "metadata": {},
   "outputs": [],
   "source": [
    "# we dont need the month information even, so get rid of it"
   ]
  },
  {
   "cell_type": "code",
   "execution_count": 41,
   "metadata": {},
   "outputs": [
    {
     "data": {
      "text/html": [
       "<div>\n",
       "<style scoped>\n",
       "    .dataframe tbody tr th:only-of-type {\n",
       "        vertical-align: middle;\n",
       "    }\n",
       "\n",
       "    .dataframe tbody tr th {\n",
       "        vertical-align: top;\n",
       "    }\n",
       "\n",
       "    .dataframe thead th {\n",
       "        text-align: right;\n",
       "    }\n",
       "</style>\n",
       "<table border=\"1\" class=\"dataframe\">\n",
       "  <thead>\n",
       "    <tr style=\"text-align: right;\">\n",
       "      <th></th>\n",
       "      <th>International airline passengers: monthly totals in thousands. Jan 49 ? Dec 60</th>\n",
       "    </tr>\n",
       "  </thead>\n",
       "  <tbody>\n",
       "    <tr>\n",
       "      <th>0</th>\n",
       "      <td>112</td>\n",
       "    </tr>\n",
       "    <tr>\n",
       "      <th>1</th>\n",
       "      <td>118</td>\n",
       "    </tr>\n",
       "    <tr>\n",
       "      <th>2</th>\n",
       "      <td>132</td>\n",
       "    </tr>\n",
       "    <tr>\n",
       "      <th>3</th>\n",
       "      <td>129</td>\n",
       "    </tr>\n",
       "    <tr>\n",
       "      <th>4</th>\n",
       "      <td>121</td>\n",
       "    </tr>\n",
       "  </tbody>\n",
       "</table>\n",
       "</div>"
      ],
      "text/plain": [
       "   International airline passengers: monthly totals in thousands. Jan 49 ? Dec 60\n",
       "0                                                112                             \n",
       "1                                                118                             \n",
       "2                                                132                             \n",
       "3                                                129                             \n",
       "4                                                121                             "
      ]
     },
     "execution_count": 41,
     "metadata": {},
     "output_type": "execute_result"
    }
   ],
   "source": [
    "df = read_csv('international-airline-passengers.csv', usecols = [1])\n",
    "df.head()"
   ]
  },
  {
   "cell_type": "code",
   "execution_count": 42,
   "metadata": {},
   "outputs": [
    {
     "data": {
      "text/html": [
       "<div>\n",
       "<style scoped>\n",
       "    .dataframe tbody tr th:only-of-type {\n",
       "        vertical-align: middle;\n",
       "    }\n",
       "\n",
       "    .dataframe tbody tr th {\n",
       "        vertical-align: top;\n",
       "    }\n",
       "\n",
       "    .dataframe thead th {\n",
       "        text-align: right;\n",
       "    }\n",
       "</style>\n",
       "<table border=\"1\" class=\"dataframe\">\n",
       "  <thead>\n",
       "    <tr style=\"text-align: right;\">\n",
       "      <th></th>\n",
       "      <th>International airline passengers: monthly totals in thousands. Jan 49 ? Dec 60</th>\n",
       "    </tr>\n",
       "  </thead>\n",
       "  <tbody>\n",
       "    <tr>\n",
       "      <th>count</th>\n",
       "      <td>144.000000</td>\n",
       "    </tr>\n",
       "    <tr>\n",
       "      <th>mean</th>\n",
       "      <td>280.298611</td>\n",
       "    </tr>\n",
       "    <tr>\n",
       "      <th>std</th>\n",
       "      <td>119.966317</td>\n",
       "    </tr>\n",
       "    <tr>\n",
       "      <th>min</th>\n",
       "      <td>104.000000</td>\n",
       "    </tr>\n",
       "    <tr>\n",
       "      <th>25%</th>\n",
       "      <td>180.000000</td>\n",
       "    </tr>\n",
       "    <tr>\n",
       "      <th>50%</th>\n",
       "      <td>265.500000</td>\n",
       "    </tr>\n",
       "    <tr>\n",
       "      <th>75%</th>\n",
       "      <td>360.500000</td>\n",
       "    </tr>\n",
       "    <tr>\n",
       "      <th>max</th>\n",
       "      <td>622.000000</td>\n",
       "    </tr>\n",
       "  </tbody>\n",
       "</table>\n",
       "</div>"
      ],
      "text/plain": [
       "       International airline passengers: monthly totals in thousands. Jan 49 ? Dec 60\n",
       "count                                         144.000000                             \n",
       "mean                                          280.298611                             \n",
       "std                                           119.966317                             \n",
       "min                                           104.000000                             \n",
       "25%                                           180.000000                             \n",
       "50%                                           265.500000                             \n",
       "75%                                           360.500000                             \n",
       "max                                           622.000000                             "
      ]
     },
     "execution_count": 42,
     "metadata": {},
     "output_type": "execute_result"
    }
   ],
   "source": [
    "df.describe()"
   ]
  },
  {
   "cell_type": "code",
   "execution_count": 43,
   "metadata": {},
   "outputs": [
    {
     "data": {
      "text/plain": [
       "(144, 1)"
      ]
     },
     "execution_count": 43,
     "metadata": {},
     "output_type": "execute_result"
    }
   ],
   "source": [
    "values = df.values.astype('float32')  # converting int data to float, while fetching\n",
    "values.shape  # np array"
   ]
  },
  {
   "cell_type": "code",
   "execution_count": 44,
   "metadata": {},
   "outputs": [
    {
     "data": {
      "text/plain": [
       "96"
      ]
     },
     "execution_count": 44,
     "metadata": {},
     "output_type": "execute_result"
    }
   ],
   "source": [
    "train_size = int(values.shape[0] * 0.67)\n",
    "train_size  # splitting into 2/3, 1/3"
   ]
  },
  {
   "cell_type": "code",
   "execution_count": 45,
   "metadata": {},
   "outputs": [
    {
     "data": {
      "text/plain": [
       "48"
      ]
     },
     "execution_count": 45,
     "metadata": {},
     "output_type": "execute_result"
    }
   ],
   "source": [
    "test_size = values.shape[0] - train_size\n",
    "test_size"
   ]
  },
  {
   "cell_type": "code",
   "execution_count": 46,
   "metadata": {},
   "outputs": [
    {
     "data": {
      "text/plain": [
       "array([[112.],\n",
       "       [118.],\n",
       "       [132.],\n",
       "       [129.],\n",
       "       [121.]], dtype=float32)"
      ]
     },
     "execution_count": 46,
     "metadata": {},
     "output_type": "execute_result"
    }
   ],
   "source": [
    "train = values[0:train_size]\n",
    "train[0:5, :]"
   ]
  },
  {
   "cell_type": "code",
   "execution_count": 47,
   "metadata": {},
   "outputs": [
    {
     "data": {
      "text/plain": [
       "array([[315.],\n",
       "       [301.],\n",
       "       [356.],\n",
       "       [348.],\n",
       "       [355.]], dtype=float32)"
      ]
     },
     "execution_count": 47,
     "metadata": {},
     "output_type": "execute_result"
    }
   ],
   "source": [
    "test = values[train_size:]\n",
    "test[0:5, :]"
   ]
  },
  {
   "cell_type": "markdown",
   "metadata": {},
   "source": [
    "### scaling the data"
   ]
  },
  {
   "cell_type": "code",
   "execution_count": 48,
   "metadata": {},
   "outputs": [],
   "source": [
    "from sklearn.preprocessing import MinMaxScaler\n",
    "scaler = MinMaxScaler(feature_range = (0, 1))\n",
    "train = scaler.fit_transform(train)\n",
    "test = scaler.transform(test)"
   ]
  },
  {
   "cell_type": "code",
   "execution_count": 49,
   "metadata": {},
   "outputs": [],
   "source": [
    "# getting the data into the required format\n",
    "def create_dataset(data, k):\n",
    "    dataX, dataY = [], []\n",
    "    for i in range(len(data)-k):\n",
    "        x = data[i:i+k, 0]  # 0th column needed, only 1 here\n",
    "        y = data[i+k, 0]\n",
    "        dataX.append(x)\n",
    "        dataY.append(y)\n",
    "    return np.array(dataX), np.array(dataY)\n",
    "        "
   ]
  },
  {
   "cell_type": "code",
   "execution_count": 50,
   "metadata": {},
   "outputs": [],
   "source": [
    "look_back = 12\n",
    "testX, testY = create_dataset(test, look_back)\n",
    "trainX, trainY = create_dataset(train, look_back)"
   ]
  },
  {
   "cell_type": "code",
   "execution_count": 51,
   "metadata": {},
   "outputs": [
    {
     "data": {
      "text/plain": [
       "(84, 12)"
      ]
     },
     "execution_count": 51,
     "metadata": {},
     "output_type": "execute_result"
    }
   ],
   "source": [
    "trainX.shape"
   ]
  },
  {
   "cell_type": "code",
   "execution_count": 52,
   "metadata": {},
   "outputs": [
    {
     "data": {
      "text/plain": [
       "((84, 12, 1), (36, 12, 1))"
      ]
     },
     "execution_count": 52,
     "metadata": {},
     "output_type": "execute_result"
    }
   ],
   "source": [
    "trainX = trainX.reshape((trainX.shape[0], trainX.shape[1], 1))\n",
    "testX = testX.reshape((testX.shape[0], testX.shape[1], 1))\n",
    "trainX.shape, testX.shape"
   ]
  },
  {
   "cell_type": "markdown",
   "metadata": {},
   "source": [
    "### setting up the RNN model"
   ]
  },
  {
   "cell_type": "code",
   "execution_count": 53,
   "metadata": {},
   "outputs": [],
   "source": [
    "from keras.models import Sequential\n",
    "from keras.layers import SimpleRNN, Dense"
   ]
  },
  {
   "cell_type": "code",
   "execution_count": 54,
   "metadata": {},
   "outputs": [
    {
     "name": "stdout",
     "output_type": "stream",
     "text": [
      "Epoch 1/100\n",
      "84/84 [==============================] - 1s 10ms/step - loss: 0.6334\n",
      "Epoch 2/100\n",
      "84/84 [==============================] - 0s 4ms/step - loss: 0.1873\n",
      "Epoch 3/100\n",
      "84/84 [==============================] - 0s 4ms/step - loss: 0.0765\n",
      "Epoch 4/100\n",
      "84/84 [==============================] - 0s 4ms/step - loss: 0.0544\n",
      "Epoch 5/100\n",
      "84/84 [==============================] - 0s 3ms/step - loss: 0.0442\n",
      "Epoch 6/100\n",
      "84/84 [==============================] - 0s 3ms/step - loss: 0.0365\n",
      "Epoch 7/100\n",
      "84/84 [==============================] - 0s 3ms/step - loss: 0.0307\n",
      "Epoch 8/100\n",
      "84/84 [==============================] - 0s 3ms/step - loss: 0.0268\n",
      "Epoch 9/100\n",
      "84/84 [==============================] - 0s 3ms/step - loss: 0.0237\n",
      "Epoch 10/100\n",
      "84/84 [==============================] - 0s 3ms/step - loss: 0.0209\n",
      "Epoch 11/100\n",
      "84/84 [==============================] - 0s 3ms/step - loss: 0.0190\n",
      "Epoch 12/100\n",
      "84/84 [==============================] - 0s 4ms/step - loss: 0.0177\n",
      "Epoch 13/100\n",
      "84/84 [==============================] - 0s 3ms/step - loss: 0.0158\n",
      "Epoch 14/100\n",
      "84/84 [==============================] - 0s 3ms/step - loss: 0.0156\n",
      "Epoch 15/100\n",
      "84/84 [==============================] - 0s 3ms/step - loss: 0.0136\n",
      "Epoch 16/100\n",
      "84/84 [==============================] - 0s 3ms/step - loss: 0.0134\n",
      "Epoch 17/100\n",
      "84/84 [==============================] - 0s 3ms/step - loss: 0.0125\n",
      "Epoch 18/100\n",
      "84/84 [==============================] - 0s 3ms/step - loss: 0.0120\n",
      "Epoch 19/100\n",
      "84/84 [==============================] - 0s 3ms/step - loss: 0.0112\n",
      "Epoch 20/100\n",
      "84/84 [==============================] - 0s 4ms/step - loss: 0.0110\n",
      "Epoch 21/100\n",
      "84/84 [==============================] - 0s 4ms/step - loss: 0.0105\n",
      "Epoch 22/100\n",
      "84/84 [==============================] - 0s 4ms/step - loss: 0.0096\n",
      "Epoch 23/100\n",
      "84/84 [==============================] - 0s 4ms/step - loss: 0.0094\n",
      "Epoch 24/100\n",
      "84/84 [==============================] - 0s 3ms/step - loss: 0.0101\n",
      "Epoch 25/100\n",
      "84/84 [==============================] - 0s 4ms/step - loss: 0.0098\n",
      "Epoch 26/100\n",
      "84/84 [==============================] - 0s 3ms/step - loss: 0.0095\n",
      "Epoch 27/100\n",
      "84/84 [==============================] - 0s 4ms/step - loss: 0.0094\n",
      "Epoch 28/100\n",
      "84/84 [==============================] - 0s 3ms/step - loss: 0.0089\n",
      "Epoch 29/100\n",
      "84/84 [==============================] - 0s 3ms/step - loss: 0.0078\n",
      "Epoch 30/100\n",
      "84/84 [==============================] - 0s 3ms/step - loss: 0.0076\n",
      "Epoch 31/100\n",
      "84/84 [==============================] - 0s 3ms/step - loss: 0.0079\n",
      "Epoch 32/100\n",
      "84/84 [==============================] - 0s 3ms/step - loss: 0.0073\n",
      "Epoch 33/100\n",
      "84/84 [==============================] - 0s 4ms/step - loss: 0.0068\n",
      "Epoch 34/100\n",
      "84/84 [==============================] - 0s 3ms/step - loss: 0.0077\n",
      "Epoch 35/100\n",
      "84/84 [==============================] - 0s 4ms/step - loss: 0.0072\n",
      "Epoch 36/100\n",
      "84/84 [==============================] - 0s 3ms/step - loss: 0.0070\n",
      "Epoch 37/100\n",
      "84/84 [==============================] - 0s 4ms/step - loss: 0.0067\n",
      "Epoch 38/100\n",
      "84/84 [==============================] - 0s 4ms/step - loss: 0.0066\n",
      "Epoch 39/100\n",
      "84/84 [==============================] - 0s 3ms/step - loss: 0.0073\n",
      "Epoch 40/100\n",
      "84/84 [==============================] - 0s 3ms/step - loss: 0.0065\n",
      "Epoch 41/100\n",
      "84/84 [==============================] - 0s 4ms/step - loss: 0.0062\n",
      "Epoch 42/100\n",
      "84/84 [==============================] - 0s 4ms/step - loss: 0.0067\n",
      "Epoch 43/100\n",
      "84/84 [==============================] - 0s 3ms/step - loss: 0.0060\n",
      "Epoch 44/100\n",
      "84/84 [==============================] - 0s 3ms/step - loss: 0.0061\n",
      "Epoch 45/100\n",
      "84/84 [==============================] - 0s 3ms/step - loss: 0.0060\n",
      "Epoch 46/100\n",
      "84/84 [==============================] - 0s 3ms/step - loss: 0.0061\n",
      "Epoch 47/100\n",
      "84/84 [==============================] - 0s 3ms/step - loss: 0.0059\n",
      "Epoch 48/100\n",
      "84/84 [==============================] - 0s 4ms/step - loss: 0.0054\n",
      "Epoch 49/100\n",
      "84/84 [==============================] - 0s 3ms/step - loss: 0.0067\n",
      "Epoch 50/100\n",
      "84/84 [==============================] - 0s 4ms/step - loss: 0.0057\n",
      "Epoch 51/100\n",
      "84/84 [==============================] - 0s 3ms/step - loss: 0.0061\n",
      "Epoch 52/100\n",
      "84/84 [==============================] - 0s 3ms/step - loss: 0.0054\n",
      "Epoch 53/100\n",
      "84/84 [==============================] - 0s 3ms/step - loss: 0.0057\n",
      "Epoch 54/100\n",
      "84/84 [==============================] - 0s 3ms/step - loss: 0.0052\n",
      "Epoch 55/100\n",
      "84/84 [==============================] - 0s 3ms/step - loss: 0.0053\n",
      "Epoch 56/100\n",
      "84/84 [==============================] - 0s 3ms/step - loss: 0.0051\n",
      "Epoch 57/100\n",
      "84/84 [==============================] - 0s 3ms/step - loss: 0.0057\n",
      "Epoch 58/100\n",
      "84/84 [==============================] - 0s 3ms/step - loss: 0.0050\n",
      "Epoch 59/100\n",
      "84/84 [==============================] - 0s 3ms/step - loss: 0.0053\n",
      "Epoch 60/100\n",
      "84/84 [==============================] - 0s 3ms/step - loss: 0.0052\n",
      "Epoch 61/100\n",
      "84/84 [==============================] - 0s 3ms/step - loss: 0.0049\n",
      "Epoch 62/100\n",
      "84/84 [==============================] - 0s 3ms/step - loss: 0.0053\n",
      "Epoch 63/100\n",
      "84/84 [==============================] - 0s 3ms/step - loss: 0.0049\n",
      "Epoch 64/100\n",
      "84/84 [==============================] - 0s 3ms/step - loss: 0.0050\n",
      "Epoch 65/100\n",
      "84/84 [==============================] - 0s 3ms/step - loss: 0.0048\n",
      "Epoch 66/100\n",
      "84/84 [==============================] - 0s 3ms/step - loss: 0.0047\n",
      "Epoch 67/100\n",
      "84/84 [==============================] - 0s 3ms/step - loss: 0.0054\n",
      "Epoch 68/100\n",
      "84/84 [==============================] - 0s 3ms/step - loss: 0.0050\n",
      "Epoch 69/100\n",
      "84/84 [==============================] - 0s 3ms/step - loss: 0.0046\n",
      "Epoch 70/100\n",
      "84/84 [==============================] - 0s 3ms/step - loss: 0.0045\n",
      "Epoch 71/100\n",
      "84/84 [==============================] - 0s 3ms/step - loss: 0.0045\n",
      "Epoch 72/100\n",
      "84/84 [==============================] - 0s 3ms/step - loss: 0.0049\n",
      "Epoch 73/100\n",
      "84/84 [==============================] - 0s 3ms/step - loss: 0.0046\n",
      "Epoch 74/100\n",
      "84/84 [==============================] - 0s 3ms/step - loss: 0.0048\n",
      "Epoch 75/100\n",
      "84/84 [==============================] - 0s 3ms/step - loss: 0.0045\n",
      "Epoch 76/100\n",
      "84/84 [==============================] - 0s 3ms/step - loss: 0.0045\n",
      "Epoch 77/100\n",
      "84/84 [==============================] - 0s 4ms/step - loss: 0.0045\n",
      "Epoch 78/100\n",
      "84/84 [==============================] - 0s 3ms/step - loss: 0.0044\n",
      "Epoch 79/100\n",
      "84/84 [==============================] - 0s 3ms/step - loss: 0.0047\n",
      "Epoch 80/100\n",
      "84/84 [==============================] - 0s 3ms/step - loss: 0.0045\n",
      "Epoch 81/100\n",
      "84/84 [==============================] - 0s 3ms/step - loss: 0.0047\n",
      "Epoch 82/100\n",
      "84/84 [==============================] - 0s 3ms/step - loss: 0.0046\n",
      "Epoch 83/100\n",
      "84/84 [==============================] - 0s 3ms/step - loss: 0.0046\n",
      "Epoch 84/100\n",
      "84/84 [==============================] - 0s 3ms/step - loss: 0.0046\n",
      "Epoch 85/100\n",
      "84/84 [==============================] - 0s 3ms/step - loss: 0.0048\n",
      "Epoch 86/100\n",
      "84/84 [==============================] - 0s 3ms/step - loss: 0.0043\n",
      "Epoch 87/100\n",
      "84/84 [==============================] - 0s 3ms/step - loss: 0.0049\n",
      "Epoch 88/100\n",
      "84/84 [==============================] - 0s 3ms/step - loss: 0.0042\n",
      "Epoch 89/100\n",
      "84/84 [==============================] - 0s 3ms/step - loss: 0.0046\n",
      "Epoch 90/100\n",
      "84/84 [==============================] - 0s 3ms/step - loss: 0.0043\n",
      "Epoch 91/100\n",
      "84/84 [==============================] - 0s 4ms/step - loss: 0.0040\n",
      "Epoch 92/100\n",
      "84/84 [==============================] - 0s 3ms/step - loss: 0.0047\n",
      "Epoch 93/100\n",
      "84/84 [==============================] - 0s 4ms/step - loss: 0.0039\n",
      "Epoch 94/100\n",
      "84/84 [==============================] - 0s 3ms/step - loss: 0.0041\n",
      "Epoch 95/100\n",
      "84/84 [==============================] - 0s 3ms/step - loss: 0.0044\n",
      "Epoch 96/100\n",
      "84/84 [==============================] - 0s 3ms/step - loss: 0.0042\n",
      "Epoch 97/100\n",
      "84/84 [==============================] - 0s 3ms/step - loss: 0.0045\n",
      "Epoch 98/100\n",
      "84/84 [==============================] - 0s 3ms/step - loss: 0.0047\n",
      "Epoch 99/100\n",
      "84/84 [==============================] - 0s 3ms/step - loss: 0.0043\n",
      "Epoch 100/100\n",
      "84/84 [==============================] - 0s 3ms/step - loss: 0.0040\n"
     ]
    },
    {
     "data": {
      "text/plain": [
       "<keras.callbacks.History at 0x1c78dc556d8>"
      ]
     },
     "execution_count": 54,
     "metadata": {},
     "output_type": "execute_result"
    }
   ],
   "source": [
    "num_features = 1\n",
    "model = Sequential()\n",
    "model.add(SimpleRNN(4, input_shape=(look_back, num_features)))\n",
    "model.add(Dense(1))\n",
    "model.compile(loss = 'mean_squared_error', optimizer = 'Adam')\n",
    "model.fit(trainX, trainY, epochs = 100, batch_size = 1)"
   ]
  },
  {
   "cell_type": "code",
   "execution_count": 55,
   "metadata": {},
   "outputs": [
    {
     "data": {
      "text/plain": [
       "array([[0.90314764],\n",
       "       [0.6989258 ],\n",
       "       [0.9006612 ],\n",
       "       [0.9917884 ],\n",
       "       [0.85264194],\n",
       "       [1.0335518 ],\n",
       "       [1.085324  ],\n",
       "       [1.1203659 ],\n",
       "       [1.0897207 ],\n",
       "       [1.0267608 ],\n",
       "       [0.7724607 ],\n",
       "       [0.8314346 ],\n",
       "       [0.9552858 ],\n",
       "       [0.7992845 ],\n",
       "       [0.91525614],\n",
       "       [1.0075314 ],\n",
       "       [0.83913994],\n",
       "       [1.0649601 ],\n",
       "       [1.091073  ],\n",
       "       [1.1271685 ],\n",
       "       [1.0978168 ],\n",
       "       [1.0140148 ],\n",
       "       [0.9019259 ],\n",
       "       [0.71959245],\n",
       "       [1.0410758 ],\n",
       "       [0.78448474],\n",
       "       [1.0459516 ],\n",
       "       [1.0493177 ],\n",
       "       [1.0245758 ],\n",
       "       [1.1024994 ],\n",
       "       [1.0997322 ],\n",
       "       [1.1349313 ],\n",
       "       [1.1120465 ],\n",
       "       [1.1086168 ],\n",
       "       [0.9388499 ],\n",
       "       [1.0430921 ]], dtype=float32)"
      ]
     },
     "execution_count": 55,
     "metadata": {},
     "output_type": "execute_result"
    }
   ],
   "source": [
    "test_predict = model.predict(testX)\n",
    "test_predict  # will not necessarily be in (0,1)"
   ]
  },
  {
   "cell_type": "code",
   "execution_count": 56,
   "metadata": {},
   "outputs": [
    {
     "data": {
      "text/plain": [
       "(36, 1)"
      ]
     },
     "execution_count": 56,
     "metadata": {},
     "output_type": "execute_result"
    }
   ],
   "source": [
    "# scale it back\n",
    "test_predict = scaler.inverse_transform(test_predict)\n",
    "test_predict.shape"
   ]
  },
  {
   "cell_type": "code",
   "execution_count": 59,
   "metadata": {},
   "outputs": [
    {
     "data": {
      "text/plain": [
       "(36,)"
      ]
     },
     "execution_count": 59,
     "metadata": {},
     "output_type": "execute_result"
    }
   ],
   "source": [
    "# convert to 1D\n",
    "test_predict = test_predict.ravel()\n",
    "test_predict.shape"
   ]
  },
  {
   "cell_type": "code",
   "execution_count": 60,
   "metadata": {},
   "outputs": [
    {
     "data": {
      "text/plain": [
       "(84,)"
      ]
     },
     "execution_count": 60,
     "metadata": {},
     "output_type": "execute_result"
    }
   ],
   "source": [
    "train_predict = model.predict(trainX)\n",
    "train_predict = scaler.inverse_transform(train_predict).ravel()\n",
    "train_predict.shape"
   ]
  },
  {
   "cell_type": "code",
   "execution_count": 68,
   "metadata": {},
   "outputs": [
    {
     "data": {
      "text/plain": [
       "((84,), (36,))"
      ]
     },
     "execution_count": 68,
     "metadata": {},
     "output_type": "execute_result"
    }
   ],
   "source": [
    "trainTrue = scaler.inverse_transform(trainY.reshape(-1, 1)).ravel()\n",
    "testTrue = scaler.inverse_transform([testY]).ravel()   # by square brackets also, becomes 2D\n",
    "\n",
    "trainY.shape, testY.shape"
   ]
  },
  {
   "cell_type": "code",
   "execution_count": 69,
   "metadata": {},
   "outputs": [],
   "source": [
    "from matplotlib import pyplot as plt"
   ]
  },
  {
   "cell_type": "code",
   "execution_count": 70,
   "metadata": {},
   "outputs": [
    {
     "data": {
      "image/png": "[encoded data removed]",
      "text/plain": [
       "<Figure size 432x288 with 1 Axes>"
      ]
     },
     "metadata": {},
     "output_type": "display_data"
    }
   ],
   "source": [
    "plt.plot(trainTrue, c = 'g')\n",
    "plt.plot(train_predict, c = 'b')\n",
    "plt.show()"
   ]
  },
  {
   "cell_type": "code",
   "execution_count": 73,
   "metadata": {},
   "outputs": [
    {
     "data": {
      "image/png": "[encoded data removed]",
      "text/plain": [
       "<Figure size 432x288 with 1 Axes>"
      ]
     },
     "metadata": {},
     "output_type": "display_data"
    }
   ],
   "source": [
    "combined_predicted = np.concatenate((train_predict, test_predict))\n",
    "combined_true = np.concatenate((trainTrue, testTrue))\n",
    "plt.plot(combined_true, c = 'g')\n",
    "plt.plot(combined_predicted, c = 'b')\n",
    "plt.show()"
   ]
  },
  {
   "cell_type": "code",
   "execution_count": 74,
   "metadata": {},
   "outputs": [],
   "source": [
    "# this was a weak RNN, we just used simpleRNN. Later, learn LSTM"
   ]
  },
  {
   "cell_type": "code",
   "execution_count": null,
   "metadata": {},
   "outputs": [],
   "source": []
  }
 ],
 "metadata": {
  "kernelspec": {
   "display_name": "Python 3",
   "language": "python",
   "name": "python3"
  },
  "language_info": {
   "codemirror_mode": {
    "name": "ipython",
    "version": 3
   },
   "file_extension": ".py",
   "mimetype": "text/x-python",
   "name": "python",
   "nbconvert_exporter": "python",
   "pygments_lexer": "ipython3",
   "version": "3.6.5"
  }
 },
 "nbformat": 4,
 "nbformat_minor": 2
}
